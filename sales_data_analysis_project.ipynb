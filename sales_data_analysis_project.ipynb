{
 "cells": [
  {
   "cell_type": "markdown",
   "id": "6017f5c0",
   "metadata": {},
   "source": [
    "# 🧠 Sales Data Analysis\n",
    "\n",
    "Mini exploratory data analysis (EDA) on sales data."
   ]
  },
  {
   "cell_type": "code",
   "execution_count": null,
   "id": "6b2ebfb6",
   "metadata": {},
   "outputs": [],
   "source": [
    "import pandas as pd\n",
    "import numpy as np\n",
    "import matplotlib.pyplot as plt\n",
    "\n",
    "# Original sales data\n",
    "data = {\n",
    "    \"Product\": [\"Laptop\", \"Tablet\", \"Laptop\", \"Monitor\", \"Tablet\", \"Keyboard\", \"Monitor\", \"Laptop\"],\n",
    "    \"Category\": [\"Electronics\", \"Electronics\", \"Electronics\", \"Accessories\", \"Electronics\", \"Accessories\", \"Accessories\", \"Electronics\"],\n",
    "    \"Price\": [1200, 500, 1300, 300, 450, 100, 280, 1250],\n",
    "    \"Units_Sold\": [10, 15, 7, 12, 10, 25, 8, 9],\n",
    "    \"Date\": [\"2025-06-01\", \"2025-06-02\", \"2025-06-05\", \"2025-06-07\", \"2025-06-10\", \"2025-06-11\", \"2025-06-12\", \"2025-06-15\"]\n",
    "}\n",
    "\n",
    "more_data = {\n",
    "    \"Product\": [\"Mouse\", \"Laptop\", \"Chair\", \"Tablet\", \"Mouse\", \"Laptop Stand\", \"Keyboard\", \"Tablet\", \"Monitor\", \"Laptop\"],\n",
    "    \"Category\": [\"Accessories\", \"Electronics\", \"Furniture\", \"Electronics\", \"Accessories\", \"Accessories\", \"Accessories\", \"Electronics\", \"Accessories\", \"Electronics\"],\n",
    "    \"Price\": [50, 1400, 700, 600, 55, 150, 120, 480, 290, 1350],\n",
    "    \"Units_Sold\": [30, 6, 5, 12, 20, 18, 10, 14, 11, 7],\n",
    "    \"Date\": [\"2025-06-16\", \"2025-06-17\", \"2025-06-18\", \"2025-06-19\", \"2025-06-20\",\n",
    "             \"2025-06-21\", \"2025-06-22\", \"2025-06-23\", \"2025-06-24\", \"2025-06-25\"]\n",
    "}\n",
    "\n",
    "df = pd.DataFrame(data)\n",
    "df_more = pd.DataFrame(more_data)\n",
    "\n",
    "df['Date'] = pd.to_datetime(df['Date'])\n",
    "df_more['Date'] = pd.to_datetime(df_more['Date'])\n",
    "\n",
    "df = pd.concat([df, df_more], ignore_index=True)\n",
    "df['Revenue'] = df['Price'] * df['Units_Sold']\n",
    "df.head()"
   ]
  },
  {
   "cell_type": "markdown",
   "id": "b2940a15",
   "metadata": {},
   "source": [
    "## 🔍 KPI Questions and Analysis"
   ]
  },
  {
   "cell_type": "code",
   "execution_count": null,
   "id": "3c434bcb",
   "metadata": {},
   "outputs": [],
   "source": [
    "# Unique products\n",
    "print(\"Unique products:\", df['Product'].nunique())\n",
    "\n",
    "# Total revenue per product\n",
    "print(df.groupby('Product')['Revenue'].sum())\n",
    "\n",
    "# Top product by revenue\n",
    "print(\"Top product by revenue:\", df.groupby('Product')['Revenue'].sum().sort_values(ascending=False).index[0])\n",
    "\n",
    "# Average price per product\n",
    "print(df.groupby('Product')['Price'].mean())\n",
    "\n",
    "# Units sold per category\n",
    "print(df.groupby('Category')['Units_Sold'].sum())\n",
    "\n",
    "# Category with lowest average price\n",
    "print(\"Lowest avg price category:\", df.groupby('Category')['Price'].mean().sort_values().index[0])\n",
    "\n",
    "# Products priced over 1000\n",
    "print(df[df['Price'] > 1000]['Product'].unique())\n",
    "\n",
    "# Average units sold per product\n",
    "print(df.groupby('Product')['Units_Sold'].mean())\n",
    "\n",
    "# Top 3 products by total units sold\n",
    "print(df.groupby('Product')['Units_Sold'].sum().sort_values(ascending=False).head(3))"
   ]
  },
  {
   "cell_type": "markdown",
   "id": "a4f67d6e",
   "metadata": {},
   "source": [
    "## 📌 Summary\n",
    "\n",
    "- Revenue calculated\n",
    "- Grouped metrics explored\n",
    "- Top product, category insights gained\n",
    "- Great for EDA practice"
   ]
  },
  {
   "cell_type": "markdown",
   "id": "240aeb35",
   "metadata": {},
   "source": [
    "## 📊 Visualizations"
   ]
  },
  {
   "cell_type": "markdown",
   "id": "126ad289",
   "metadata": {},
   "source": [
    "### 1. Bar Chart – Total Revenue by Product"
   ]
  },
  {
   "cell_type": "code",
   "execution_count": null,
   "id": "ae835799",
   "metadata": {},
   "outputs": [],
   "source": [
    "a = df.groupby('Product')['Revenue'].sum().sort_values(ascending=False)\n",
    "plt.bar(a.index, a.values)\n",
    "plt.xticks(rotation='vertical')\n",
    "plt.title('Total Revenue For Each Product')\n",
    "plt.xlabel(\"Product\")\n",
    "plt.ylabel(\"Revenue\")\n",
    "plt.show()"
   ]
  },
  {
   "cell_type": "markdown",
   "id": "597bbba6",
   "metadata": {},
   "source": [
    "### 2. Pie Chart – Units Sold by Product"
   ]
  },
  {
   "cell_type": "code",
   "execution_count": null,
   "id": "e799975f",
   "metadata": {},
   "outputs": [],
   "source": [
    "a = df.groupby('Product')['Units_Sold'].sum()\n",
    "plt.pie(a.values, labels=a.index, autopct='%0.1f%%')\n",
    "plt.title('Total Units Sold In Each Product')\n",
    "plt.show()"
   ]
  },
  {
   "cell_type": "markdown",
   "id": "aaffc13b",
   "metadata": {},
   "source": [
    "### 3. Bar Chart – Average Price per Category"
   ]
  },
  {
   "cell_type": "code",
   "execution_count": null,
   "id": "e642ba8a",
   "metadata": {},
   "outputs": [],
   "source": [
    "a = df.groupby('Category')['Price'].mean()\n",
    "plt.bar(a.index, a.values, width=0.5)\n",
    "plt.title(\"Average Price Per Category\")\n",
    "plt.xlabel('Category')\n",
    "plt.ylabel('Average Price')\n",
    "plt.show()"
   ]
  },
  {
   "cell_type": "markdown",
   "id": "802a1908",
   "metadata": {},
   "source": [
    "### 4. Horizontal Bar Chart – Total Units Sold by Product"
   ]
  },
  {
   "cell_type": "code",
   "execution_count": null,
   "id": "34b941ed",
   "metadata": {},
   "outputs": [],
   "source": [
    "a = df.groupby('Product')['Units_Sold'].sum()\n",
    "plt.barh(a.index, a.values)\n",
    "plt.title('Total Units Sold In Each Product')\n",
    "plt.xlabel('Units Sold')\n",
    "plt.ylabel('Product')\n",
    "plt.show()"
   ]
  },
  {
   "cell_type": "markdown",
   "id": "ebd2f50a",
   "metadata": {},
   "source": [
    "### 5. Revenue and Units Sold (Split View)"
   ]
  },
  {
   "cell_type": "code",
   "execution_count": null,
   "id": "479606a0",
   "metadata": {},
   "outputs": [],
   "source": [
    "a = df.groupby('Product')['Revenue'].sum()\n",
    "b = df.groupby('Product')['Units_Sold'].sum()\n",
    "\n",
    "fig, ax = plt.subplots(nrows=2, ncols=1, figsize=(8, 8), sharex=True)\n",
    "\n",
    "ax[0].bar(a.index, a.values)\n",
    "ax[0].set_ylabel('Revenue')\n",
    "ax[0].set_title('Total Revenue per Product')\n",
    "\n",
    "ax[1].bar(b.index, b.values)\n",
    "ax[1].set_ylabel('Units Sold')\n",
    "ax[1].set_title('Units Sold per Product')\n",
    "\n",
    "ax[1].set_xticks(range(len(b.index)))\n",
    "ax[1].set_xticklabels(b.index, rotation=45)\n",
    "\n",
    "plt.tight_layout()\n",
    "plt.show()"
   ]
  },
  {
   "cell_type": "markdown",
   "id": "7a01eebc",
   "metadata": {},
   "source": [
    "### 🧮 Calculated Fields & KPIs"
   ]
  },
  {
   "cell_type": "code",
   "execution_count": null,
   "id": "a08fa506",
   "metadata": {},
   "outputs": [],
   "source": [
    "df['Avg_Unit_Price'] = df['Revenue']/df['Units_Sold']\n",
    "\n",
    "df['Discounted_Price'] = df['Price'] * 0.9\n",
    "\n",
    "df.loc[df['Units_Sold'] > 10,'High_Volume'] = True\n",
    "df.loc[df['Units_Sold'] <= 10,'High_Volume'] = False\n"
   ]
  }
 ],
 "metadata": {
  "language_info": {
   "name": "python"
  }
 },
 "nbformat": 4,
 "nbformat_minor": 5
}
