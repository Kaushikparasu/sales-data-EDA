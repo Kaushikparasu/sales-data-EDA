{
 "cells": [
  {
   "cell_type": "markdown",
   "id": "6017f5c0",
   "metadata": {},
   "source": [
    "# 🧠 Sales Data Analysis\n",
    "\n",
    "Mini exploratory data analysis (EDA) on sales data."
   ]
  },
  {
   "cell_type": "code",
   "execution_count": null,
   "id": "6b2ebfb6",
   "metadata": {},
   "outputs": [],
   "source": [
    "import pandas as pd\n",
    "\n",
    "# Original sales data\n",
    "data = {\n",
    "    \"Product\": [\"Laptop\", \"Tablet\", \"Laptop\", \"Monitor\", \"Tablet\", \"Keyboard\", \"Monitor\", \"Laptop\"],\n",
    "    \"Category\": [\"Electronics\", \"Electronics\", \"Electronics\", \"Accessories\", \"Electronics\", \"Accessories\", \"Accessories\", \"Electronics\"],\n",
    "    \"Price\": [1200, 500, 1300, 300, 450, 100, 280, 1250],\n",
    "    \"Units_Sold\": [10, 15, 7, 12, 10, 25, 8, 9],\n",
    "    \"Date\": [\"2025-06-01\", \"2025-06-02\", \"2025-06-05\", \"2025-06-07\", \"2025-06-10\", \"2025-06-11\", \"2025-06-12\", \"2025-06-15\"]\n",
    "}\n",
    "\n",
    "more_data = {\n",
    "    \"Product\": [\"Mouse\", \"Laptop\", \"Chair\", \"Tablet\", \"Mouse\", \"Laptop Stand\", \"Keyboard\", \"Tablet\", \"Monitor\", \"Laptop\"],\n",
    "    \"Category\": [\"Accessories\", \"Electronics\", \"Furniture\", \"Electronics\", \"Accessories\", \"Accessories\", \"Accessories\", \"Electronics\", \"Accessories\", \"Electronics\"],\n",
    "    \"Price\": [50, 1400, 700, 600, 55, 150, 120, 480, 290, 1350],\n",
    "    \"Units_Sold\": [30, 6, 5, 12, 20, 18, 10, 14, 11, 7],\n",
    "    \"Date\": [\"2025-06-16\", \"2025-06-17\", \"2025-06-18\", \"2025-06-19\", \"2025-06-20\",\n",
    "             \"2025-06-21\", \"2025-06-22\", \"2025-06-23\", \"2025-06-24\", \"2025-06-25\"]\n",
    "}\n",
    "\n",
    "df = pd.DataFrame(data)\n",
    "df_more = pd.DataFrame(more_data)\n",
    "\n",
    "df['Date'] = pd.to_datetime(df['Date'])\n",
    "df_more['Date'] = pd.to_datetime(df_more['Date'])\n",
    "\n",
    "df = pd.concat([df, df_more], ignore_index=True)\n",
    "df['Revenue'] = df['Price'] * df['Units_Sold']\n",
    "df.head()"
   ]
  },
  {
   "cell_type": "markdown",
   "id": "b2940a15",
   "metadata": {},
   "source": [
    "## 🔍 KPI Questions and Analysis"
   ]
  },
  {
   "cell_type": "code",
   "execution_count": null,
   "id": "3c434bcb",
   "metadata": {},
   "outputs": [],
   "source": [
    "# Unique products\n",
    "print(\"Unique products:\", df['Product'].nunique())\n",
    "\n",
    "# Total revenue per product\n",
    "print(df.groupby('Product')['Revenue'].sum())\n",
    "\n",
    "# Top product by revenue\n",
    "print(\"Top product by revenue:\", df.groupby('Product')['Revenue'].sum().sort_values(ascending=False).index[0])\n",
    "\n",
    "# Average price per product\n",
    "print(df.groupby('Product')['Price'].mean())\n",
    "\n",
    "# Units sold per category\n",
    "print(df.groupby('Category')['Units_Sold'].sum())\n",
    "\n",
    "# Category with lowest average price\n",
    "print(\"Lowest avg price category:\", df.groupby('Category')['Price'].mean().sort_values().index[0])\n",
    "\n",
    "# Products priced over 1000\n",
    "print(df[df['Price'] > 1000]['Product'].unique())\n",
    "\n",
    "# Average units sold per product\n",
    "print(df.groupby('Product')['Units_Sold'].mean())\n",
    "\n",
    "# Top 3 products by total units sold\n",
    "print(df.groupby('Product')['Units_Sold'].sum().sort_values(ascending=False).head(3))"
   ]
  },
  {
   "cell_type": "markdown",
   "id": "a4f67d6e",
   "metadata": {},
   "source": [
    "## 📌 Summary\n",
    "\n",
    "- Revenue calculated\n",
    "- Grouped metrics explored\n",
    "- Top product, category insights gained\n",
    "- Great for EDA practice"
   ]
  }
 ],
 "metadata": {},
 "nbformat": 4,
 "nbformat_minor": 5
}
